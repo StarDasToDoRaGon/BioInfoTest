{
 "cells": [
  {
   "cell_type": "code",
   "execution_count": 34,
   "metadata": {},
   "outputs": [],
   "source": [
    "import pyreadr\n",
    "import pandas as pd\n",
    "rRead = pyreadr.read_r('exgr_test.rds')"
   ]
  },
  {
   "cell_type": "code",
   "execution_count": 35,
   "metadata": {},
   "outputs": [
    {
     "data": {
      "text/html": [
       "<div>\n",
       "<style scoped>\n",
       "    .dataframe tbody tr th:only-of-type {\n",
       "        vertical-align: middle;\n",
       "    }\n",
       "\n",
       "    .dataframe tbody tr th {\n",
       "        vertical-align: top;\n",
       "    }\n",
       "\n",
       "    .dataframe thead th {\n",
       "        text-align: right;\n",
       "    }\n",
       "</style>\n",
       "<table border=\"1\" class=\"dataframe\">\n",
       "  <thead>\n",
       "    <tr style=\"text-align: right;\">\n",
       "      <th></th>\n",
       "      <th>transcript_id</th>\n",
       "      <th>transcript_name</th>\n",
       "      <th>sequence_names</th>\n",
       "      <th>start</th>\n",
       "      <th>end</th>\n",
       "      <th>width</th>\n",
       "      <th>strand</th>\n",
       "      <th>exon_id</th>\n",
       "      <th>exon_name</th>\n",
       "      <th>rank</th>\n",
       "    </tr>\n",
       "  </thead>\n",
       "  <tbody>\n",
       "    <tr>\n",
       "      <th>0</th>\n",
       "      <td>1</td>\n",
       "      <td>ENST00000456328.2</td>\n",
       "      <td>chr1</td>\n",
       "      <td>11869</td>\n",
       "      <td>12227</td>\n",
       "      <td>359</td>\n",
       "      <td>+</td>\n",
       "      <td>1</td>\n",
       "      <td>ENSE00002234944.1</td>\n",
       "      <td>1</td>\n",
       "    </tr>\n",
       "    <tr>\n",
       "      <th>1</th>\n",
       "      <td>1</td>\n",
       "      <td>ENST00000456328.2</td>\n",
       "      <td>chr1</td>\n",
       "      <td>12613</td>\n",
       "      <td>12721</td>\n",
       "      <td>109</td>\n",
       "      <td>+</td>\n",
       "      <td>5</td>\n",
       "      <td>ENSE00003582793.1</td>\n",
       "      <td>2</td>\n",
       "    </tr>\n",
       "    <tr>\n",
       "      <th>2</th>\n",
       "      <td>1</td>\n",
       "      <td>ENST00000456328.2</td>\n",
       "      <td>chr1</td>\n",
       "      <td>13221</td>\n",
       "      <td>14409</td>\n",
       "      <td>1189</td>\n",
       "      <td>+</td>\n",
       "      <td>8</td>\n",
       "      <td>ENSE00002312635.1</td>\n",
       "      <td>3</td>\n",
       "    </tr>\n",
       "    <tr>\n",
       "      <th>3</th>\n",
       "      <td>2</td>\n",
       "      <td>ENST00000450305.2</td>\n",
       "      <td>chr1</td>\n",
       "      <td>12010</td>\n",
       "      <td>12057</td>\n",
       "      <td>48</td>\n",
       "      <td>+</td>\n",
       "      <td>2</td>\n",
       "      <td>ENSE00001948541.1</td>\n",
       "      <td>1</td>\n",
       "    </tr>\n",
       "    <tr>\n",
       "      <th>4</th>\n",
       "      <td>2</td>\n",
       "      <td>ENST00000450305.2</td>\n",
       "      <td>chr1</td>\n",
       "      <td>12179</td>\n",
       "      <td>12227</td>\n",
       "      <td>49</td>\n",
       "      <td>+</td>\n",
       "      <td>3</td>\n",
       "      <td>ENSE00001671638.2</td>\n",
       "      <td>2</td>\n",
       "    </tr>\n",
       "    <tr>\n",
       "      <th>...</th>\n",
       "      <td>...</td>\n",
       "      <td>...</td>\n",
       "      <td>...</td>\n",
       "      <td>...</td>\n",
       "      <td>...</td>\n",
       "      <td>...</td>\n",
       "      <td>...</td>\n",
       "      <td>...</td>\n",
       "      <td>...</td>\n",
       "      <td>...</td>\n",
       "    </tr>\n",
       "    <tr>\n",
       "      <th>1460981</th>\n",
       "      <td>234481</td>\n",
       "      <td>ENST00000387409.1</td>\n",
       "      <td>chrM</td>\n",
       "      <td>5826</td>\n",
       "      <td>5891</td>\n",
       "      <td>66</td>\n",
       "      <td>-</td>\n",
       "      <td>760545</td>\n",
       "      <td>ENSE00001544488.1</td>\n",
       "      <td>1</td>\n",
       "    </tr>\n",
       "    <tr>\n",
       "      <th>1460982</th>\n",
       "      <td>234482</td>\n",
       "      <td>ENST00000387416.2</td>\n",
       "      <td>chrM</td>\n",
       "      <td>7446</td>\n",
       "      <td>7514</td>\n",
       "      <td>69</td>\n",
       "      <td>-</td>\n",
       "      <td>760546</td>\n",
       "      <td>ENSE00001544487.2</td>\n",
       "      <td>1</td>\n",
       "    </tr>\n",
       "    <tr>\n",
       "      <th>1460983</th>\n",
       "      <td>234483</td>\n",
       "      <td>ENST00000361681.2</td>\n",
       "      <td>chrM</td>\n",
       "      <td>14149</td>\n",
       "      <td>14673</td>\n",
       "      <td>525</td>\n",
       "      <td>-</td>\n",
       "      <td>760547</td>\n",
       "      <td>ENSE00001434974.2</td>\n",
       "      <td>1</td>\n",
       "    </tr>\n",
       "    <tr>\n",
       "      <th>1460984</th>\n",
       "      <td>234484</td>\n",
       "      <td>ENST00000387459.1</td>\n",
       "      <td>chrM</td>\n",
       "      <td>14674</td>\n",
       "      <td>14742</td>\n",
       "      <td>69</td>\n",
       "      <td>-</td>\n",
       "      <td>760548</td>\n",
       "      <td>ENSE00001544476.1</td>\n",
       "      <td>1</td>\n",
       "    </tr>\n",
       "    <tr>\n",
       "      <th>1460985</th>\n",
       "      <td>234485</td>\n",
       "      <td>ENST00000387461.2</td>\n",
       "      <td>chrM</td>\n",
       "      <td>15956</td>\n",
       "      <td>16023</td>\n",
       "      <td>68</td>\n",
       "      <td>-</td>\n",
       "      <td>760549</td>\n",
       "      <td>ENSE00001544473.2</td>\n",
       "      <td>1</td>\n",
       "    </tr>\n",
       "  </tbody>\n",
       "</table>\n",
       "<p>1460986 rows × 10 columns</p>\n",
       "</div>"
      ],
      "text/plain": [
       "         transcript_id    transcript_name sequence_names  start    end  width  \\\n",
       "0                    1  ENST00000456328.2           chr1  11869  12227    359   \n",
       "1                    1  ENST00000456328.2           chr1  12613  12721    109   \n",
       "2                    1  ENST00000456328.2           chr1  13221  14409   1189   \n",
       "3                    2  ENST00000450305.2           chr1  12010  12057     48   \n",
       "4                    2  ENST00000450305.2           chr1  12179  12227     49   \n",
       "...                ...                ...            ...    ...    ...    ...   \n",
       "1460981         234481  ENST00000387409.1           chrM   5826   5891     66   \n",
       "1460982         234482  ENST00000387416.2           chrM   7446   7514     69   \n",
       "1460983         234483  ENST00000361681.2           chrM  14149  14673    525   \n",
       "1460984         234484  ENST00000387459.1           chrM  14674  14742     69   \n",
       "1460985         234485  ENST00000387461.2           chrM  15956  16023     68   \n",
       "\n",
       "        strand  exon_id          exon_name  rank  \n",
       "0            +        1  ENSE00002234944.1     1  \n",
       "1            +        5  ENSE00003582793.1     2  \n",
       "2            +        8  ENSE00002312635.1     3  \n",
       "3            +        2  ENSE00001948541.1     1  \n",
       "4            +        3  ENSE00001671638.2     2  \n",
       "...        ...      ...                ...   ...  \n",
       "1460981      -   760545  ENSE00001544488.1     1  \n",
       "1460982      -   760546  ENSE00001544487.2     1  \n",
       "1460983      -   760547  ENSE00001434974.2     1  \n",
       "1460984      -   760548  ENSE00001544476.1     1  \n",
       "1460985      -   760549  ENSE00001544473.2     1  \n",
       "\n",
       "[1460986 rows x 10 columns]"
      ]
     },
     "execution_count": 35,
     "metadata": {},
     "output_type": "execute_result"
    }
   ],
   "source": [
    "df_python = pd.DataFrame(rRead[None])\n",
    "df_python"
   ]
  },
  {
   "cell_type": "markdown",
   "metadata": {},
   "source": [
    "Task 1: How many unique transcripts are there? "
   ]
  },
  {
   "cell_type": "code",
   "execution_count": 36,
   "metadata": {},
   "outputs": [
    {
     "data": {
      "text/plain": [
       "234485"
      ]
     },
     "execution_count": 36,
     "metadata": {},
     "output_type": "execute_result"
    }
   ],
   "source": [
    "df_python['transcript_id'].nunique()"
   ]
  },
  {
   "cell_type": "markdown",
   "metadata": {},
   "source": [
    "Task 2: How many unique Exons are there?"
   ]
  },
  {
   "cell_type": "code",
   "execution_count": 37,
   "metadata": {},
   "outputs": [
    {
     "data": {
      "text/plain": [
       "760549"
      ]
     },
     "execution_count": 37,
     "metadata": {},
     "output_type": "execute_result"
    }
   ],
   "source": [
    "df_python['exon_id'].nunique()"
   ]
  },
  {
   "cell_type": "markdown",
   "metadata": {},
   "source": [
    "Task 3: What is the average length of an exon? What is the median length?"
   ]
  },
  {
   "cell_type": "code",
   "execution_count": 38,
   "metadata": {},
   "outputs": [
    {
     "data": {
      "text/plain": [
       "262.9930635885628"
      ]
     },
     "execution_count": 38,
     "metadata": {},
     "output_type": "execute_result"
    }
   ],
   "source": [
    "# Average length of exon:\n",
    "df_python['width'].mean()"
   ]
  },
  {
   "cell_type": "code",
   "execution_count": 39,
   "metadata": {},
   "outputs": [
    {
     "data": {
      "text/plain": [
       "130.0"
      ]
     },
     "execution_count": 39,
     "metadata": {},
     "output_type": "execute_result"
    }
   ],
   "source": [
    "# Median length of exon:\n",
    "df_python['width'].median()"
   ]
  },
  {
   "cell_type": "markdown",
   "metadata": {},
   "source": [
    "Task 4: Calculate the length of intron"
   ]
  },
  {
   "cell_type": "code",
   "execution_count": 40,
   "metadata": {},
   "outputs": [],
   "source": [
    "# We don't know if the data set was grouped and ordered by transcript_id and rank, so do it before operation\n",
    "df_python = df_python.sort_values(by=['transcript_id', 'rank'])"
   ]
  },
  {
   "cell_type": "code",
   "execution_count": 41,
   "metadata": {},
   "outputs": [],
   "source": [
    "# split the dataset into 2 sets, based on strand \n",
    "positive_strand = df_python['strand'] == '+'\n",
    "negative_strand = df_python['strand'] == '-'\n"
   ]
  },
  {
   "cell_type": "code",
   "execution_count": 42,
   "metadata": {},
   "outputs": [],
   "source": [
    "# Calculate length of intron\n",
    "# for positive strand: intron_length = nth start - (n-1)th end\n",
    "df_python.loc[positive_strand, 'intron_length'] = df_python.loc[positive_strand, 'start'] - df_python.loc[positive_strand, 'end'].shift(1) - 1\n",
    "\n",
    "# for negative strand: intron_length = nth start - (n+1)th end\n",
    "df_python.loc[negative_strand, 'intron_length'] = df_python.loc[negative_strand, 'start'] - df_python.loc[negative_strand, 'end'].shift(-1) - 1\n"
   ]
  },
  {
   "cell_type": "code",
   "execution_count": 43,
   "metadata": {},
   "outputs": [],
   "source": [
    "# Set the first intron_length of each transcript to zero\n",
    "# For positive strand: the first exon has the lowest rank, so get the index of first line of each transcript and transfer the correspond intron_length value to 0\n",
    "Positive_Head_Idx = df_python[positive_strand].groupby('transcript_id').head(1).index\n",
    "df_python.loc[Positive_Head_Idx, 'intron_length'] = 0\n",
    "\n",
    "# For negative strand: the first exon has the highest rank, so get the index of last line of each transcript and transfer the correspond intron_length value to 0\n",
    "Negative_Tail_Idx = df_python[negative_strand].groupby('transcript_id').tail(1).index\n",
    "df_python.loc[Negative_Tail_Idx, 'intron_length'] = 0\n"
   ]
  },
  {
   "cell_type": "markdown",
   "metadata": {},
   "source": [
    "Bonues Points:"
   ]
  },
  {
   "cell_type": "code",
   "execution_count": 44,
   "metadata": {},
   "outputs": [],
   "source": [
    "# initiate\n",
    "df_python['l1'] = df_python['start'] - 100\n",
    "df_python['l2'] = df_python['start'] + 100\n",
    "df_python['u1'] = df_python['end'] - 100\n",
    "df_python['u2'] = df_python['end'] + 100"
   ]
  },
  {
   "cell_type": "code",
   "execution_count": 45,
   "metadata": {},
   "outputs": [
    {
     "name": "stderr",
     "output_type": "stream",
     "text": [
      "C:\\Users\\zhixz\\AppData\\Local\\Temp\\ipykernel_22956\\3156434663.py:2: FutureWarning: The default of observed=False is deprecated and will be changed to True in a future version of pandas. Pass observed=False to retain current behavior or observed=True to adopt the future default and silence this warning.\n",
      "  df_python['first_row'] = df_python.groupby(['transcript_id', 'strand']).cumcount() == 0\n",
      "C:\\Users\\zhixz\\AppData\\Local\\Temp\\ipykernel_22956\\3156434663.py:3: FutureWarning: The default of observed=False is deprecated and will be changed to True in a future version of pandas. Pass observed=False to retain current behavior or observed=True to adopt the future default and silence this warning.\n",
      "  df_python['last_row'] = df_python.groupby(['transcript_id', 'strand']).cumcount(ascending=False) == 0\n"
     ]
    }
   ],
   "source": [
    "# add 2 new column to indicate if the row is a head or tail, through this col, we can decide if we should update the begin and end coordinate of l and u\n",
    "df_python['first_row'] = df_python.groupby(['transcript_id', 'strand']).cumcount() == 0\n",
    "df_python['last_row'] = df_python.groupby(['transcript_id', 'strand']).cumcount(ascending=False) == 0\n"
   ]
  },
  {
   "cell_type": "code",
   "execution_count": 46,
   "metadata": {},
   "outputs": [],
   "source": [
    "# update the value based on the cols just add\n",
    "df_python.loc[(df_python['first_row'] & (df_python['strand'] == '+')), 'l1'] = 0\n",
    "df_python.loc[(df_python['last_row'] & (df_python['strand'] == '+')), 'u2'] = 0\n",
    "df_python.loc[(df_python['first_row'] & (df_python['strand'] == '-')), 'u2'] = 0\n",
    "df_python.loc[(df_python['last_row'] & (df_python['strand'] == '-')), 'l1'] = 0\n",
    "\n"
   ]
  },
  {
   "cell_type": "code",
   "execution_count": 47,
   "metadata": {},
   "outputs": [
    {
     "name": "stderr",
     "output_type": "stream",
     "text": [
      "C:\\Users\\zhixz\\AppData\\Local\\Temp\\ipykernel_22956\\3142029091.py:2: FutureWarning: Setting an item of incompatible dtype is deprecated and will raise in a future error of pandas. Value '[12667.  12033.5 12203.  ...  7480.  14708.  15989.5]' has dtype incompatible with int32, please explicitly cast to a compatible dtype first.\n",
      "  df_python.loc[df_python['width'] < 200, ['l2', 'u1']] = (df_python['start'] + df_python['end']) / 2\n"
     ]
    }
   ],
   "source": [
    "# deal with the exon that has length less than 200\n",
    "df_python.loc[df_python['width'] < 200, ['l2', 'u1']] = (df_python['start'] + df_python['end']) / 2"
   ]
  },
  {
   "cell_type": "code",
   "execution_count": 48,
   "metadata": {},
   "outputs": [
    {
     "name": "stderr",
     "output_type": "stream",
     "text": [
      "C:\\Users\\zhixz\\AppData\\Local\\Temp\\ipykernel_22956\\2971026104.py:8: FutureWarning: Setting an item of incompatible dtype is deprecated and will raise in a future error of pandas. Value '[1.20180000e+04 1.30365000e+04 1.33135000e+04 ... 5.72096775e+07\n",
      " 5.72115905e+07 5.72115650e+07]' has dtype incompatible with int32, please explicitly cast to a compatible dtype first.\n",
      "  df_python.loc[target, 'l1'] = new_val\n",
      "C:\\Users\\zhixz\\AppData\\Local\\Temp\\ipykernel_22956\\2971026104.py:12: FutureWarning: Setting an item of incompatible dtype is deprecated and will raise in a future error of pandas. Value '[1.20180000e+04 1.30365000e+04 1.33135000e+04 ... 5.72096775e+07\n",
      " 5.72115905e+07 5.72115650e+07]' has dtype incompatible with int32, please explicitly cast to a compatible dtype first.\n",
      "  df_python.loc[prev_rows, 'u2'] = new_val.values\n"
     ]
    }
   ],
   "source": [
    "# choose the row that strand is positive and intron length less than 200 and do not inclue the beginning intron transcription\n",
    "target = (df_python['strand'] == '+') & (df_python['intron_length'] > 0) & (df_python['intron_length'] < 200)\n",
    "\n",
    "# calculate the new result value\n",
    "new_val = df_python.loc[target, 'l1'] - df_python.loc[target, 'intron_length'] / 2\n",
    "\n",
    "# update l1. since it's positive trand, current l1 should be updated\n",
    "df_python.loc[target, 'l1'] = new_val\n",
    "\n",
    "# since it's positive strand, u2 of previous line should be updated\n",
    "prev_rows = df_python.index[target] - 1\n",
    "df_python.loc[prev_rows, 'u2'] = new_val.values"
   ]
  },
  {
   "cell_type": "code",
   "execution_count": 49,
   "metadata": {},
   "outputs": [],
   "source": [
    "# choose the row that strand is negative and intron length less than 200 and do not inclue the beginning intron of the transcription\n",
    "target = (df_python['strand'] == '-') & (df_python['intron_length'] > 0) & (df_python['intron_length'] < 200)\n",
    "\n",
    "# calculate the new result value\n",
    "new_val = df_python.loc[target, 'l1'] - df_python.loc[target, 'intron_length'] / 2\n",
    "\n",
    "# update l1. \n",
    "df_python.loc[target, 'l1'] = new_val\n",
    "\n",
    "# since it's negative strand, u2 of next line should be updated\n",
    "prev_rows = df_python.index[target] + 1\n",
    "df_python.loc[prev_rows, 'u2'] = new_val.values"
   ]
  }
 ],
 "metadata": {
  "kernelspec": {
   "display_name": "Python 3",
   "language": "python",
   "name": "python3"
  },
  "language_info": {
   "codemirror_mode": {
    "name": "ipython",
    "version": 3
   },
   "file_extension": ".py",
   "mimetype": "text/x-python",
   "name": "python",
   "nbconvert_exporter": "python",
   "pygments_lexer": "ipython3",
   "version": "3.11.5"
  },
  "orig_nbformat": 4
 },
 "nbformat": 4,
 "nbformat_minor": 2
}
